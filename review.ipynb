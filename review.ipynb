{
 "cells": [
  {
   "cell_type": "markdown",
   "id": "55c70ff1",
   "metadata": {},
   "source": [
    "## projet ML : Analyse de Sentiments dans les Avis de Films : Construction d'un Modèle de    Classification NLP\"\n",
    "   # Nom et prenom : Imad AKARZABI\n",
    "   # MASTER SIDI TA \n",
    "    "
   ]
  },
  {
   "cell_type": "markdown",
   "id": "b9b2b6f5",
   "metadata": {},
   "source": [
    "# 1. Introduction"
   ]
  },
  {
   "cell_type": "markdown",
   "id": "6ecd3d3c",
   "metadata": {},
   "source": [
    "Le projet a pour objectif de construire un modèle d'analyse de sentiments en utilisant la classification bayésienne naïve.\n",
    "Le langage de programmation Python et plusieurs bibliothèques, telles que NumPy, pandas et scikit-learn, sont utilisés pour développer le modèle. Les étapes comprennent le chargement et le prétraitement des données, la création d'un pipeline NLP, l'entraînement du modèle et son évaluation"
   ]
  },
  {
   "cell_type": "markdown",
   "id": "fa684e9e",
   "metadata": {},
   "source": [
    "# 2. Importation des bibliothèques :"
   ]
  },
  {
   "cell_type": "markdown",
   "id": "ee1ce5c0",
   "metadata": {},
   "source": [
    "Dans cette section, les bibliothèques nécessaires pour le projet sont importées. NumPy est utilisé pour les opérations mathématiques, pandas pour la manipulation des données, et scikit-learn pour les outils de machine learning, tels que la division des données, la vectorisation et la classification."
   ]
  },
  {
   "cell_type": "code",
   "execution_count": 12,
   "id": "f4c13f8b",
   "metadata": {},
   "outputs": [],
   "source": [
    "import pandas as pd\n",
    "from sklearn.model_selection import train_test_split\n",
    "from sklearn.feature_extraction.text import TfidfVectorizer\n",
    "from sklearn.naive_bayes import MultinomialNB\n",
    "from sklearn.pipeline import Pipeline\n",
    "from sklearn.metrics import accuracy_score, classification_report"
   ]
  },
  {
   "cell_type": "markdown",
   "id": "8702c36a",
   "metadata": {},
   "source": [
    "# 3. Chargement des données :"
   ]
  },
  {
   "cell_type": "markdown",
   "id": "c385fde3",
   "metadata": {},
   "source": [
    "Les données sont chargées à partir du fichier CSV 'db_reviews.csv' en utilisant la fonction read_csv de pandas. Le paramètre delimiter est spécifié comme ';' pour indiquer que le fichier CSV utilise ce caractère comme séparateur de colonnes.\n",
    "\n",
    "À ce stade, le jeu de données est stocké dans le DataFrame 'data', qui peut ensuite être utilisé pour l'analyse et la préparation des données."
   ]
  },
  {
   "cell_type": "code",
   "execution_count": 13,
   "id": "c319645d",
   "metadata": {},
   "outputs": [],
   "source": [
    "# Les données sont chargées à partir d'un fichier CSV (db_reviews.csv) à l'aide de la bibliothèque pandas\n",
    "data = pd.read_csv('db_reviews.csv',delimiter=';')"
   ]
  },
  {
   "cell_type": "markdown",
   "id": "f1d0d5bc",
   "metadata": {},
   "source": [
    "afficher les dimensions du DataFrame data"
   ]
  },
  {
   "cell_type": "code",
   "execution_count": 14,
   "id": "16ec365f",
   "metadata": {},
   "outputs": [
    {
     "data": {
      "text/plain": [
       "(748, 2)"
      ]
     },
     "execution_count": 14,
     "metadata": {},
     "output_type": "execute_result"
    }
   ],
   "source": [
    "data.shape"
   ]
  },
  {
   "cell_type": "markdown",
   "id": "b71ab0e6",
   "metadata": {},
   "source": [
    "afficher les types de données de chaque colonne dans le DataFrame data"
   ]
  },
  {
   "cell_type": "code",
   "execution_count": 15,
   "id": "29cce277",
   "metadata": {},
   "outputs": [
    {
     "data": {
      "text/plain": [
       "review        object\n",
       "sentiment    float64\n",
       "dtype: object"
      ]
     },
     "execution_count": 15,
     "metadata": {},
     "output_type": "execute_result"
    }
   ],
   "source": [
    "data.dtypes "
   ]
  },
  {
   "cell_type": "markdown",
   "id": "e33c4a23",
   "metadata": {},
   "source": [
    "# 4. Prétraitement des Données :"
   ]
  },
  {
   "cell_type": "markdown",
   "id": "2e8b459f",
   "metadata": {},
   "source": [
    "La colonne 'sentiment' est convertie en type 'object'"
   ]
  },
  {
   "cell_type": "code",
   "execution_count": 16,
   "id": "70ef8025",
   "metadata": {},
   "outputs": [],
   "source": [
    "# la colonne 'sentiment' est convertie en type 'object'\n",
    "data['sentiment'] = data['sentiment'].astype('object')"
   ]
  },
  {
   "cell_type": "code",
   "execution_count": 17,
   "id": "a3734876",
   "metadata": {},
   "outputs": [
    {
     "data": {
      "text/plain": [
       "review       object\n",
       "sentiment    object\n",
       "dtype: object"
      ]
     },
     "execution_count": 17,
     "metadata": {},
     "output_type": "execute_result"
    }
   ],
   "source": [
    "data.dtypes"
   ]
  },
  {
   "cell_type": "code",
   "execution_count": 18,
   "id": "e40946d4",
   "metadata": {},
   "outputs": [
    {
     "data": {
      "text/html": [
       "<div>\n",
       "<style scoped>\n",
       "    .dataframe tbody tr th:only-of-type {\n",
       "        vertical-align: middle;\n",
       "    }\n",
       "\n",
       "    .dataframe tbody tr th {\n",
       "        vertical-align: top;\n",
       "    }\n",
       "\n",
       "    .dataframe thead th {\n",
       "        text-align: right;\n",
       "    }\n",
       "</style>\n",
       "<table border=\"1\" class=\"dataframe\">\n",
       "  <thead>\n",
       "    <tr style=\"text-align: right;\">\n",
       "      <th></th>\n",
       "      <th>review</th>\n",
       "      <th>sentiment</th>\n",
       "    </tr>\n",
       "  </thead>\n",
       "  <tbody>\n",
       "    <tr>\n",
       "      <th>0</th>\n",
       "      <td>A very, very, very slow-moving, aimless movie ...</td>\n",
       "      <td>0.0</td>\n",
       "    </tr>\n",
       "    <tr>\n",
       "      <th>1</th>\n",
       "      <td>Not sure who was more lost - the flat characte...</td>\n",
       "      <td>0.0</td>\n",
       "    </tr>\n",
       "    <tr>\n",
       "      <th>2</th>\n",
       "      <td>Attempting artiness with black &amp; white and cle...</td>\n",
       "      <td>0.0</td>\n",
       "    </tr>\n",
       "    <tr>\n",
       "      <th>3</th>\n",
       "      <td>Very little music or anything to speak of.</td>\n",
       "      <td>0.0</td>\n",
       "    </tr>\n",
       "    <tr>\n",
       "      <th>4</th>\n",
       "      <td>The best scene in the movie was when Gerardo i...</td>\n",
       "      <td>1.0</td>\n",
       "    </tr>\n",
       "  </tbody>\n",
       "</table>\n",
       "</div>"
      ],
      "text/plain": [
       "                                              review sentiment\n",
       "0  A very, very, very slow-moving, aimless movie ...       0.0\n",
       "1  Not sure who was more lost - the flat characte...       0.0\n",
       "2  Attempting artiness with black & white and cle...       0.0\n",
       "3       Very little music or anything to speak of.         0.0\n",
       "4  The best scene in the movie was when Gerardo i...       1.0"
      ]
     },
     "execution_count": 18,
     "metadata": {},
     "output_type": "execute_result"
    }
   ],
   "source": [
    "data.head()"
   ]
  },
  {
   "cell_type": "markdown",
   "id": "d348748d",
   "metadata": {},
   "source": [
    "plusieurs valeurs dans cette colonne sont remplacées simultanément pour normaliser les sentiments. "
   ]
  },
  {
   "cell_type": "code",
   "execution_count": 19,
   "id": "86b34daa",
   "metadata": {},
   "outputs": [],
   "source": [
    "# Remplacer plusieurs valeurs en une seule fois dans la colonne 'sentiment'\n",
    "valeurs_a_remplacer = {0.0: 'N', 1.0: 'P'} "
   ]
  },
  {
   "cell_type": "code",
   "execution_count": 20,
   "id": "d7e65215",
   "metadata": {},
   "outputs": [],
   "source": [
    "data['sentiment'] = data['sentiment'].replace(valeurs_a_remplacer)"
   ]
  },
  {
   "cell_type": "code",
   "execution_count": 21,
   "id": "d13dc4b4",
   "metadata": {},
   "outputs": [
    {
     "data": {
      "text/html": [
       "<div>\n",
       "<style scoped>\n",
       "    .dataframe tbody tr th:only-of-type {\n",
       "        vertical-align: middle;\n",
       "    }\n",
       "\n",
       "    .dataframe tbody tr th {\n",
       "        vertical-align: top;\n",
       "    }\n",
       "\n",
       "    .dataframe thead th {\n",
       "        text-align: right;\n",
       "    }\n",
       "</style>\n",
       "<table border=\"1\" class=\"dataframe\">\n",
       "  <thead>\n",
       "    <tr style=\"text-align: right;\">\n",
       "      <th></th>\n",
       "      <th>review</th>\n",
       "      <th>sentiment</th>\n",
       "    </tr>\n",
       "  </thead>\n",
       "  <tbody>\n",
       "    <tr>\n",
       "      <th>0</th>\n",
       "      <td>A very, very, very slow-moving, aimless movie ...</td>\n",
       "      <td>N</td>\n",
       "    </tr>\n",
       "    <tr>\n",
       "      <th>1</th>\n",
       "      <td>Not sure who was more lost - the flat characte...</td>\n",
       "      <td>N</td>\n",
       "    </tr>\n",
       "    <tr>\n",
       "      <th>2</th>\n",
       "      <td>Attempting artiness with black &amp; white and cle...</td>\n",
       "      <td>N</td>\n",
       "    </tr>\n",
       "    <tr>\n",
       "      <th>3</th>\n",
       "      <td>Very little music or anything to speak of.</td>\n",
       "      <td>N</td>\n",
       "    </tr>\n",
       "    <tr>\n",
       "      <th>4</th>\n",
       "      <td>The best scene in the movie was when Gerardo i...</td>\n",
       "      <td>P</td>\n",
       "    </tr>\n",
       "  </tbody>\n",
       "</table>\n",
       "</div>"
      ],
      "text/plain": [
       "                                              review sentiment\n",
       "0  A very, very, very slow-moving, aimless movie ...         N\n",
       "1  Not sure who was more lost - the flat characte...         N\n",
       "2  Attempting artiness with black & white and cle...         N\n",
       "3       Very little music or anything to speak of.           N\n",
       "4  The best scene in the movie was when Gerardo i...         P"
      ]
     },
     "execution_count": 21,
     "metadata": {},
     "output_type": "execute_result"
    }
   ],
   "source": [
    "data.head()"
   ]
  },
  {
   "cell_type": "markdown",
   "id": "e6c81477",
   "metadata": {},
   "source": [
    "Les valeurs manquantes dans les colonnes 'review' et 'sentiment' sont identifiées et supprimées pour garantir la qualité des données."
   ]
  },
  {
   "cell_type": "code",
   "execution_count": 22,
   "id": "0bbeb403",
   "metadata": {},
   "outputs": [
    {
     "name": "stdout",
     "output_type": "stream",
     "text": [
      "Valeurs manquantes dans 'review': 1\n",
      "Valeurs manquantes dans 'sentiment': 9\n"
     ]
    }
   ],
   "source": [
    "print(\"Valeurs manquantes dans 'review':\", data['review'].isnull().sum())\n",
    "print(\"Valeurs manquantes dans 'sentiment':\", data['sentiment'].isnull().sum())"
   ]
  },
  {
   "cell_type": "code",
   "execution_count": 24,
   "id": "3bef0d98",
   "metadata": {},
   "outputs": [],
   "source": [
    "data = data.dropna()"
   ]
  },
  {
   "cell_type": "code",
   "execution_count": 25,
   "id": "640a56fa",
   "metadata": {},
   "outputs": [
    {
     "name": "stdout",
     "output_type": "stream",
     "text": [
      "Valeurs manquantes dans 'review': 0\n",
      "Valeurs manquantes dans 'sentiment': 0\n"
     ]
    }
   ],
   "source": [
    "print(\"Valeurs manquantes dans 'review':\", data['review'].isnull().sum())\n",
    "print(\"Valeurs manquantes dans 'sentiment':\", data['sentiment'].isnull().sum())"
   ]
  },
  {
   "cell_type": "markdown",
   "id": "06afce6d",
   "metadata": {},
   "source": [
    "# 5. Division des Données :"
   ]
  },
  {
   "cell_type": "markdown",
   "id": "b4376354",
   "metadata": {},
   "source": [
    "Les données sont divisées en ensembles d'apprentissage et de test à l'aide de la fonction train_test_split de scikit-learn. Cela permet d'évaluer la performance du modèle sur un ensemble de données non utilisé pendant l'entraînement."
   ]
  },
  {
   "cell_type": "code",
   "execution_count": 26,
   "id": "39a74b6a",
   "metadata": {
    "scrolled": true
   },
   "outputs": [],
   "source": [
    "# Diviser l'ensemble de données en ensembles d'apprentissage et de test\n",
    "X = data['review']\n",
    "y = data['sentiment']\n",
    "X_train, X_test, y_train, y_test = train_test_split(X, y, test_size=0.2, random_state=42)"
   ]
  },
  {
   "cell_type": "markdown",
   "id": "59b4ebf0",
   "metadata": {},
   "source": [
    "# 6. Création du Modèle :"
   ]
  },
  {
   "cell_type": "markdown",
   "id": "4d4088a7",
   "metadata": {},
   "source": [
    "Un pipeline NLP est construit, comprenant une étape de vectorisation TF-IDF (Term Frequency-Inverse Document Frequency) et un modèle de classification bayésienne naïve. La vectorisation TF-IDF convertit les avis textuels en représentations numériques tout en tenant compte de l'importance des termes."
   ]
  },
  {
   "cell_type": "code",
   "execution_count": 27,
   "id": "44588e37",
   "metadata": {},
   "outputs": [],
   "source": [
    "# Création d'un pipeline NLP\n",
    "pipeline = Pipeline([\n",
    "    ('tfidf', TfidfVectorizer(max_features=5000)),  # Vectorisation TF-IDF\n",
    "    ('classifier', MultinomialNB())  #  Modèle de classification\n",
    "])"
   ]
  },
  {
   "cell_type": "code",
   "execution_count": 28,
   "id": "4967b915",
   "metadata": {},
   "outputs": [],
   "source": [
    "# Entraînement du modèle et prédiction sur l'ensemble de test\n",
    "pipeline.fit(X_train, y_train)\n",
    "y_pred = pipeline.predict(X_test)"
   ]
  },
  {
   "cell_type": "markdown",
   "id": "6f793f17",
   "metadata": {},
   "source": [
    "# 7. Évaluation du Modèle :"
   ]
  },
  {
   "cell_type": "markdown",
   "id": "d42eadd8",
   "metadata": {},
   "source": [
    "Le modèle est évalué sur l'ensemble de test en calculant la précision et en générant un rapport de classification. Le rapport de classification fournit des informations détaillées sur la performance du modèle, y compris la précision, le rappel et le F1-score pour chaque classe."
   ]
  },
  {
   "cell_type": "code",
   "execution_count": 29,
   "id": "045f17c0",
   "metadata": {},
   "outputs": [],
   "source": [
    "# Évaluation du modèle\n",
    "accuracy = accuracy_score(y_test, y_pred)\n",
    "report = classification_report(y_test, y_pred)"
   ]
  },
  {
   "cell_type": "code",
   "execution_count": 30,
   "id": "629ae248",
   "metadata": {
    "scrolled": true
   },
   "outputs": [
    {
     "name": "stdout",
     "output_type": "stream",
     "text": [
      "Précision du modèle : 0.75\n"
     ]
    }
   ],
   "source": [
    "# Affichage des résultats\n",
    "print(f\"Précision du modèle : {accuracy:.2f}\")"
   ]
  },
  {
   "cell_type": "code",
   "execution_count": 31,
   "id": "f8cfeb41",
   "metadata": {},
   "outputs": [
    {
     "name": "stdout",
     "output_type": "stream",
     "text": [
      "              precision    recall  f1-score   support\n",
      "\n",
      "           N       0.78      0.71      0.74        75\n",
      "           P       0.72      0.79      0.76        73\n",
      "\n",
      "    accuracy                           0.75       148\n",
      "   macro avg       0.75      0.75      0.75       148\n",
      "weighted avg       0.75      0.75      0.75       148\n",
      "\n"
     ]
    }
   ],
   "source": [
    "print(report)"
   ]
  },
  {
   "cell_type": "markdown",
   "id": "dd5db15b",
   "metadata": {},
   "source": [
    "# 8. Prédiction de Sentiments pour de Nouveaux Avis :"
   ]
  },
  {
   "cell_type": "markdown",
   "id": "4e06d3af",
   "metadata": {},
   "source": [
    "Enfin, le modèle est utilisé pour prédire le sentiment associé à de nouveaux avis. Dans l'exemple fourni, un nouvel avis est utilisé comme entrée pour le modèle, qui retourne la prédiction du sentiment."
   ]
  },
  {
   "cell_type": "code",
   "execution_count": 33,
   "id": "b31dd64c",
   "metadata": {},
   "outputs": [
    {
     "name": "stdout",
     "output_type": "stream",
     "text": [
      "Sentiment prédit avis 1 : ['P']\n",
      "Sentiment prédit avis 2 : ['N']\n"
     ]
    }
   ],
   "source": [
    "# Exemple d'un nouvel avis à prédire\n",
    "nouvel_avis_1 = [\"i like this film \"]\n",
    "nouvel_avis_2 = [\"i dont like this film \"]\n",
    "prediction_1 = pipeline.predict(nouvel_avis_1)\n",
    "print(f\"Sentiment prédit avis 1 : {prediction_1}\")\n",
    "prediction_2 = pipeline.predict(nouvel_avis_2)\n",
    "print(f\"Sentiment prédit avis 2 : {prediction_2}\")"
   ]
  },
  {
   "cell_type": "markdown",
   "id": "a47fa71a",
   "metadata": {},
   "source": [
    "# 9. Conclusion :"
   ]
  },
  {
   "cell_type": "markdown",
   "id": "651f6a00",
   "metadata": {},
   "source": [
    "Le modèle de classification bayésienne naïve semble fonctionner de manière satisfaisante pour l'analyse de sentiments dans cet ensemble de données. Des ajustements et des améliorations futures peuvent être envisagés, tels que l'exploration d'autres techniques de prétraitement des données et l'optimisation des hyperparamètres du modèle, pour augmenter la performance globale du modèle."
   ]
  }
 ],
 "metadata": {
  "kernelspec": {
   "display_name": "Python 3 (ipykernel)",
   "language": "python",
   "name": "python3"
  },
  "language_info": {
   "codemirror_mode": {
    "name": "ipython",
    "version": 3
   },
   "file_extension": ".py",
   "mimetype": "text/x-python",
   "name": "python",
   "nbconvert_exporter": "python",
   "pygments_lexer": "ipython3",
   "version": "3.11.5"
  }
 },
 "nbformat": 4,
 "nbformat_minor": 5
}
